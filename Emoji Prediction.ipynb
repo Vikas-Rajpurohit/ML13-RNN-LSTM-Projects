{
 "cells": [
  {
   "cell_type": "markdown",
   "id": "a5c1a69c",
   "metadata": {},
   "source": [
    "## 1. Load Data"
   ]
  },
  {
   "cell_type": "code",
   "execution_count": 1,
   "id": "daa90a99",
   "metadata": {},
   "outputs": [],
   "source": [
    "import numpy as np\n",
    "import pandas as pd\n",
    "\n",
    "from keras.models import Sequential\n",
    "from keras.layers import Dense, LSTM, SimpleRNN, Embedding\n",
    "\n",
    "from keras.preprocessing.text import Tokenizer\n",
    "from keras_preprocessing.sequence import pad_sequences\n",
    "from tensorflow.keras.utils import to_categorical"
   ]
  },
  {
   "cell_type": "code",
   "execution_count": 2,
   "id": "793efdc5",
   "metadata": {},
   "outputs": [
    {
     "data": {
      "text/html": [
       "<div>\n",
       "<style scoped>\n",
       "    .dataframe tbody tr th:only-of-type {\n",
       "        vertical-align: middle;\n",
       "    }\n",
       "\n",
       "    .dataframe tbody tr th {\n",
       "        vertical-align: top;\n",
       "    }\n",
       "\n",
       "    .dataframe thead th {\n",
       "        text-align: right;\n",
       "    }\n",
       "</style>\n",
       "<table border=\"1\" class=\"dataframe\">\n",
       "  <thead>\n",
       "    <tr style=\"text-align: right;\">\n",
       "      <th></th>\n",
       "      <th>0</th>\n",
       "      <th>1</th>\n",
       "    </tr>\n",
       "  </thead>\n",
       "  <tbody>\n",
       "    <tr>\n",
       "      <th>0</th>\n",
       "      <td>French macaroon is so tasty</td>\n",
       "      <td>4</td>\n",
       "    </tr>\n",
       "    <tr>\n",
       "      <th>1</th>\n",
       "      <td>work is horrible</td>\n",
       "      <td>3</td>\n",
       "    </tr>\n",
       "    <tr>\n",
       "      <th>2</th>\n",
       "      <td>I am upset</td>\n",
       "      <td>3</td>\n",
       "    </tr>\n",
       "    <tr>\n",
       "      <th>3</th>\n",
       "      <td>throw the ball</td>\n",
       "      <td>1</td>\n",
       "    </tr>\n",
       "    <tr>\n",
       "      <th>4</th>\n",
       "      <td>Good joke</td>\n",
       "      <td>2</td>\n",
       "    </tr>\n",
       "  </tbody>\n",
       "</table>\n",
       "</div>"
      ],
      "text/plain": [
       "                             0   1\n",
       "0  French macaroon is so tasty   4\n",
       "1             work is horrible   3\n",
       "2                   I am upset  3 \n",
       "3               throw the ball  1 \n",
       "4                    Good joke   2"
      ]
     },
     "execution_count": 2,
     "metadata": {},
     "output_type": "execute_result"
    }
   ],
   "source": [
    "df = pd.read_csv('emoji_data.csv', header = None)\n",
    "df.head()"
   ]
  },
  {
   "cell_type": "code",
   "execution_count": 3,
   "id": "bf53892b",
   "metadata": {},
   "outputs": [],
   "source": [
    "emoji_dict = {\n",
    "    0: \"❣️\",\n",
    "    1: \"⚾\",\n",
    "    2: \"😃\",\n",
    "    3: \"😔\",\n",
    "    4: \"🍽️\"\n",
    "}\n",
    "\n",
    "def label_to_emoji(label):\n",
    "    return emoji_dict[label]"
   ]
  },
  {
   "cell_type": "code",
   "execution_count": 4,
   "id": "6045c75c",
   "metadata": {},
   "outputs": [],
   "source": [
    "X = df[0].values\n",
    "Y = df[1].values"
   ]
  },
  {
   "cell_type": "code",
   "execution_count": null,
   "id": "810ed8af",
   "metadata": {},
   "outputs": [],
   "source": []
  },
  {
   "cell_type": "markdown",
   "id": "350e75b6",
   "metadata": {},
   "source": [
    "## 2. Embeddings"
   ]
  },
  {
   "cell_type": "code",
   "execution_count": 5,
   "id": "28bdffcc",
   "metadata": {},
   "outputs": [
    {
     "name": "stdout",
     "output_type": "stream",
     "text": [
      "400000\n"
     ]
    }
   ],
   "source": [
    "file = open('glove/glove.6B.100d.txt', 'r', encoding = 'utf8')\n",
    "content = file.readlines()\n",
    "file.close()\n",
    "\n",
    "print(len(content))"
   ]
  },
  {
   "cell_type": "code",
   "execution_count": 6,
   "id": "6ac9bd11",
   "metadata": {},
   "outputs": [],
   "source": [
    "embeddings = {}\n",
    "\n",
    "for line in content:\n",
    "\n",
    "    line = line.split()\n",
    "    embeddings[line[0]] = np.array(line[1:], dtype = float)"
   ]
  },
  {
   "cell_type": "code",
   "execution_count": 7,
   "id": "bfeda60d",
   "metadata": {},
   "outputs": [
    {
     "data": {
      "text/plain": [
       "array([ 0.92508  ,  0.49343  , -0.053259 , -0.2788   , -0.36762  ,\n",
       "        1.0179   ,  0.25543  ,  0.50571  , -0.72731  ,  0.39231  ,\n",
       "        0.60123  ,  0.23257  ,  0.71127  ,  0.11146  , -0.1101   ,\n",
       "       -0.070188 , -0.027965 , -0.10344  , -1.2736   , -0.29982  ,\n",
       "        1.108    , -0.15707  ,  0.64281  ,  0.31294  , -0.12107  ,\n",
       "       -0.0072911,  0.10496  , -1.0617   ,  0.64642  , -0.02892  ,\n",
       "        0.22464  , -0.095795 , -0.56932  , -0.81811  ,  1.0645   ,\n",
       "       -0.50897  , -0.35844  ,  1.3345   ,  0.087079 ,  0.84503  ,\n",
       "       -0.45696  , -0.27341  ,  0.1486   , -0.40005  ,  0.073584 ,\n",
       "        0.027856 , -0.019284 ,  0.10275  ,  0.045384 , -0.51425  ,\n",
       "       -0.37088  , -0.39773  ,  0.11357  ,  1.6347   , -0.062116 ,\n",
       "       -1.67     , -0.016011 , -0.12335  ,  1.1064   ,  0.73959  ,\n",
       "       -0.39408  ,  0.82737  ,  0.3472   , -0.074331 ,  0.74837  ,\n",
       "       -0.11377  ,  0.39867  ,  0.59619  ,  0.035678 ,  0.18488  ,\n",
       "        0.039027 , -0.81542  , -0.10443  ,  0.088339 ,  0.13617  ,\n",
       "        0.65268  ,  0.2379   , -0.11969  , -0.35055  , -0.64359  ,\n",
       "        0.98397  ,  0.18078  , -0.12198  ,  0.05973  , -1.4614   ,\n",
       "       -0.90258  , -0.50609  , -0.24964  ,  0.35258  ,  0.22657  ,\n",
       "        0.081261 , -0.21083  ,  0.68108  ,  0.066849 , -0.64089  ,\n",
       "       -0.43327  , -1.2146   ,  0.022083 ,  0.50997  ,  0.12191  ])"
      ]
     },
     "execution_count": 7,
     "metadata": {},
     "output_type": "execute_result"
    }
   ],
   "source": [
    "embeddings['men']"
   ]
  },
  {
   "cell_type": "code",
   "execution_count": 8,
   "id": "40906733",
   "metadata": {},
   "outputs": [],
   "source": [
    "def get_maxlen(data):\n",
    "    maxlen = 0\n",
    "    for sent in data:\n",
    "        maxlen = max(maxlen, len(sent))\n",
    "        \n",
    "    return maxlen"
   ]
  },
  {
   "cell_type": "code",
   "execution_count": 9,
   "id": "d2b85a65",
   "metadata": {},
   "outputs": [],
   "source": [
    "tokenizer = Tokenizer()\n",
    "tokenizer.fit_on_texts(X)\n",
    "word2index = tokenizer.word_index"
   ]
  },
  {
   "cell_type": "code",
   "execution_count": 10,
   "id": "ee17d4e0",
   "metadata": {},
   "outputs": [
    {
     "data": {
      "text/plain": [
       "104"
      ]
     },
     "execution_count": 10,
     "metadata": {},
     "output_type": "execute_result"
    }
   ],
   "source": [
    "word2index['macaroon']"
   ]
  },
  {
   "cell_type": "code",
   "execution_count": 11,
   "id": "68e130ce",
   "metadata": {},
   "outputs": [],
   "source": [
    "Xtokens = tokenizer.texts_to_sequences(X)\n",
    "\n",
    "maxlen = get_maxlen(Xtokens)\n",
    "Xtrain = pad_sequences(Xtokens, maxlen = maxlen,  padding = 'post', truncating = 'post')"
   ]
  },
  {
   "cell_type": "code",
   "execution_count": 12,
   "id": "7261f4e2",
   "metadata": {},
   "outputs": [
    {
     "name": "stdout",
     "output_type": "stream",
     "text": [
      "Sentence: French macaroon is so tasty\n",
      "Token: [103 104   3   6 105   0   0   0   0   0]\n"
     ]
    }
   ],
   "source": [
    "print(f'Sentence: {X[0]}')\n",
    "print(f'Token: {Xtrain[0]}')"
   ]
  },
  {
   "cell_type": "code",
   "execution_count": 13,
   "id": "cd641a53",
   "metadata": {},
   "outputs": [],
   "source": [
    "Y[29] = '0'\n",
    "\n",
    "Ytrain = to_categorical(Y)"
   ]
  },
  {
   "cell_type": "code",
   "execution_count": null,
   "id": "5e4d0155",
   "metadata": {},
   "outputs": [],
   "source": []
  },
  {
   "cell_type": "markdown",
   "id": "74e58ef5",
   "metadata": {},
   "source": [
    "## 3. Building Model"
   ]
  },
  {
   "cell_type": "code",
   "execution_count": 14,
   "id": "967ecfda",
   "metadata": {},
   "outputs": [],
   "source": [
    "embed_size = 100\n",
    "embedding_matrix = np.zeros((len(word2index)+1, embed_size))\n",
    "\n",
    "for word, i in word2index.items():\n",
    "    embed_vector = embeddings[word]\n",
    "    embedding_matrix[i] = embed_vector"
   ]
  },
  {
   "cell_type": "code",
   "execution_count": 15,
   "id": "68c5209e",
   "metadata": {},
   "outputs": [
    {
     "data": {
      "text/plain": [
       "array([[ 0.      ,  0.      ,  0.      , ...,  0.      ,  0.      ,\n",
       "         0.      ],\n",
       "       [-0.046539,  0.61966 ,  0.56647 , ..., -0.37616 , -0.032502,\n",
       "         0.8062  ],\n",
       "       [-0.49886 ,  0.76602 ,  0.89751 , ..., -0.41179 ,  0.40539 ,\n",
       "         0.78504 ],\n",
       "       ...,\n",
       "       [-0.46263 ,  0.069864,  0.69095 , ..., -0.29174 ,  0.32041 ,\n",
       "         0.21202 ],\n",
       "       [ 0.073242,  0.11134 ,  0.62281 , ...,  0.53417 , -0.1646  ,\n",
       "        -0.27516 ],\n",
       "       [ 0.29019 ,  0.80497 ,  0.31187 , ..., -0.33603 ,  0.45998 ,\n",
       "        -0.11278 ]])"
      ]
     },
     "execution_count": 15,
     "metadata": {},
     "output_type": "execute_result"
    }
   ],
   "source": [
    "embedding_matrix"
   ]
  },
  {
   "cell_type": "code",
   "execution_count": 16,
   "id": "3f328948",
   "metadata": {},
   "outputs": [],
   "source": [
    "model = Sequential([\n",
    "    Embedding(input_dim = len(word2index) + 1,\n",
    "              output_dim = embed_size,\n",
    "              input_length = maxlen,\n",
    "              weights = [embedding_matrix],\n",
    "              trainable = False\n",
    "             ),\n",
    "    \n",
    "    LSTM(units = 16, return_sequences = True),\n",
    "    LSTM(units = 4),\n",
    "    Dense(5, activation = 'softmax')\n",
    "])\n",
    "\n",
    "model.compile(optimizer = 'adam', loss = 'categorical_crossentropy', metrics = ['accuracy'])"
   ]
  },
  {
   "cell_type": "code",
   "execution_count": 26,
   "id": "437be4d3",
   "metadata": {},
   "outputs": [
    {
     "data": {
      "text/plain": [
       "(None, 10)"
      ]
     },
     "execution_count": 26,
     "metadata": {},
     "output_type": "execute_result"
    }
   ],
   "source": [
    "model.input_shape"
   ]
  },
  {
   "cell_type": "code",
   "execution_count": 18,
   "id": "1cf3517d",
   "metadata": {},
   "outputs": [
    {
     "data": {
      "text/plain": [
       "(None, 5)"
      ]
     },
     "execution_count": 18,
     "metadata": {},
     "output_type": "execute_result"
    }
   ],
   "source": [
    "model.output_shape"
   ]
  },
  {
   "cell_type": "code",
   "execution_count": 19,
   "id": "9f2bf237",
   "metadata": {},
   "outputs": [
    {
     "name": "stdout",
     "output_type": "stream",
     "text": [
      "Model: \"sequential\"\n",
      "_________________________________________________________________\n",
      " Layer (type)                Output Shape              Param #   \n",
      "=================================================================\n",
      " embedding (Embedding)       (None, 10, 100)           31300     \n",
      "                                                                 \n",
      " lstm (LSTM)                 (None, 10, 16)            7488      \n",
      "                                                                 \n",
      " lstm_1 (LSTM)               (None, 4)                 336       \n",
      "                                                                 \n",
      " dense (Dense)               (None, 5)                 25        \n",
      "                                                                 \n",
      "=================================================================\n",
      "Total params: 39,149\n",
      "Trainable params: 7,849\n",
      "Non-trainable params: 31,300\n",
      "_________________________________________________________________\n"
     ]
    }
   ],
   "source": [
    "model.summary()"
   ]
  },
  {
   "cell_type": "code",
   "execution_count": 20,
   "id": "b8d4fd5d",
   "metadata": {
    "collapsed": true
   },
   "outputs": [
    {
     "name": "stdout",
     "output_type": "stream",
     "text": [
      "Epoch 1/100\n",
      "6/6 [==============================] - 3s 9ms/step - loss: 1.5885 - accuracy: 0.3115\n",
      "Epoch 2/100\n",
      "6/6 [==============================] - 0s 6ms/step - loss: 1.5653 - accuracy: 0.3825\n",
      "Epoch 3/100\n",
      "6/6 [==============================] - 0s 6ms/step - loss: 1.5479 - accuracy: 0.3443\n",
      "Epoch 4/100\n",
      "6/6 [==============================] - 0s 7ms/step - loss: 1.5286 - accuracy: 0.4098\n",
      "Epoch 5/100\n",
      "6/6 [==============================] - 0s 7ms/step - loss: 1.5058 - accuracy: 0.4153\n",
      "Epoch 6/100\n",
      "6/6 [==============================] - 0s 8ms/step - loss: 1.4815 - accuracy: 0.4372\n",
      "Epoch 7/100\n",
      "6/6 [==============================] - 0s 6ms/step - loss: 1.4545 - accuracy: 0.4317\n",
      "Epoch 8/100\n",
      "6/6 [==============================] - 0s 6ms/step - loss: 1.4289 - accuracy: 0.4317\n",
      "Epoch 9/100\n",
      "6/6 [==============================] - 0s 7ms/step - loss: 1.4044 - accuracy: 0.4426\n",
      "Epoch 10/100\n",
      "6/6 [==============================] - 0s 7ms/step - loss: 1.3801 - accuracy: 0.4536\n",
      "Epoch 11/100\n",
      "6/6 [==============================] - 0s 7ms/step - loss: 1.3565 - accuracy: 0.4590\n",
      "Epoch 12/100\n",
      "6/6 [==============================] - 0s 7ms/step - loss: 1.3291 - accuracy: 0.4863\n",
      "Epoch 13/100\n",
      "6/6 [==============================] - 0s 7ms/step - loss: 1.3028 - accuracy: 0.5191\n",
      "Epoch 14/100\n",
      "6/6 [==============================] - 0s 7ms/step - loss: 1.2767 - accuracy: 0.5301\n",
      "Epoch 15/100\n",
      "6/6 [==============================] - 0s 7ms/step - loss: 1.2421 - accuracy: 0.5519\n",
      "Epoch 16/100\n",
      "6/6 [==============================] - 0s 8ms/step - loss: 1.2062 - accuracy: 0.5410\n",
      "Epoch 17/100\n",
      "6/6 [==============================] - 0s 7ms/step - loss: 1.1634 - accuracy: 0.5792\n",
      "Epoch 18/100\n",
      "6/6 [==============================] - 0s 7ms/step - loss: 1.1305 - accuracy: 0.5956\n",
      "Epoch 19/100\n",
      "6/6 [==============================] - 0s 7ms/step - loss: 1.0961 - accuracy: 0.6120\n",
      "Epoch 20/100\n",
      "6/6 [==============================] - 0s 8ms/step - loss: 1.0662 - accuracy: 0.6230\n",
      "Epoch 21/100\n",
      "6/6 [==============================] - 0s 7ms/step - loss: 1.0249 - accuracy: 0.6230\n",
      "Epoch 22/100\n",
      "6/6 [==============================] - 0s 7ms/step - loss: 1.0042 - accuracy: 0.6503\n",
      "Epoch 23/100\n",
      "6/6 [==============================] - 0s 7ms/step - loss: 0.9518 - accuracy: 0.6776\n",
      "Epoch 24/100\n",
      "6/6 [==============================] - 0s 8ms/step - loss: 0.9242 - accuracy: 0.6940\n",
      "Epoch 25/100\n",
      "6/6 [==============================] - 0s 8ms/step - loss: 0.8989 - accuracy: 0.6940\n",
      "Epoch 26/100\n",
      "6/6 [==============================] - 0s 7ms/step - loss: 0.8724 - accuracy: 0.7432\n",
      "Epoch 27/100\n",
      "6/6 [==============================] - 0s 5ms/step - loss: 0.8541 - accuracy: 0.7268\n",
      "Epoch 28/100\n",
      "6/6 [==============================] - 0s 7ms/step - loss: 0.8253 - accuracy: 0.7486\n",
      "Epoch 29/100\n",
      "6/6 [==============================] - 0s 7ms/step - loss: 0.8068 - accuracy: 0.7650\n",
      "Epoch 30/100\n",
      "6/6 [==============================] - 0s 8ms/step - loss: 0.7781 - accuracy: 0.7596\n",
      "Epoch 31/100\n",
      "6/6 [==============================] - 0s 7ms/step - loss: 0.7588 - accuracy: 0.7978\n",
      "Epoch 32/100\n",
      "6/6 [==============================] - 0s 4ms/step - loss: 0.7347 - accuracy: 0.8033\n",
      "Epoch 33/100\n",
      "6/6 [==============================] - 0s 7ms/step - loss: 0.7112 - accuracy: 0.8087\n",
      "Epoch 34/100\n",
      "6/6 [==============================] - 0s 7ms/step - loss: 0.6915 - accuracy: 0.8306\n",
      "Epoch 35/100\n",
      "6/6 [==============================] - 0s 7ms/step - loss: 0.6704 - accuracy: 0.8415\n",
      "Epoch 36/100\n",
      "6/6 [==============================] - 0s 7ms/step - loss: 0.6575 - accuracy: 0.8525\n",
      "Epoch 37/100\n",
      "6/6 [==============================] - 0s 7ms/step - loss: 0.6662 - accuracy: 0.8361\n",
      "Epoch 38/100\n",
      "6/6 [==============================] - 0s 7ms/step - loss: 0.6600 - accuracy: 0.8579\n",
      "Epoch 39/100\n",
      "6/6 [==============================] - 0s 7ms/step - loss: 0.6432 - accuracy: 0.8361\n",
      "Epoch 40/100\n",
      "6/6 [==============================] - 0s 6ms/step - loss: 0.6247 - accuracy: 0.8634\n",
      "Epoch 41/100\n",
      "6/6 [==============================] - 0s 8ms/step - loss: 0.6094 - accuracy: 0.8579\n",
      "Epoch 42/100\n",
      "6/6 [==============================] - 0s 6ms/step - loss: 0.5854 - accuracy: 0.9016\n",
      "Epoch 43/100\n",
      "6/6 [==============================] - 0s 7ms/step - loss: 0.5698 - accuracy: 0.8852\n",
      "Epoch 44/100\n",
      "6/6 [==============================] - 0s 7ms/step - loss: 0.5333 - accuracy: 0.9071\n",
      "Epoch 45/100\n",
      "6/6 [==============================] - 0s 7ms/step - loss: 0.5361 - accuracy: 0.8962\n",
      "Epoch 46/100\n",
      "6/6 [==============================] - 0s 8ms/step - loss: 0.5120 - accuracy: 0.9126\n",
      "Epoch 47/100\n",
      "6/6 [==============================] - 0s 7ms/step - loss: 0.5038 - accuracy: 0.9344\n",
      "Epoch 48/100\n",
      "6/6 [==============================] - 0s 7ms/step - loss: 0.4843 - accuracy: 0.9235\n",
      "Epoch 49/100\n",
      "6/6 [==============================] - 0s 8ms/step - loss: 0.4647 - accuracy: 0.9344\n",
      "Epoch 50/100\n",
      "6/6 [==============================] - 0s 7ms/step - loss: 0.4591 - accuracy: 0.9454\n",
      "Epoch 51/100\n",
      "6/6 [==============================] - 0s 7ms/step - loss: 0.4503 - accuracy: 0.9399\n",
      "Epoch 52/100\n",
      "6/6 [==============================] - 0s 6ms/step - loss: 0.4408 - accuracy: 0.9399\n",
      "Epoch 53/100\n",
      "6/6 [==============================] - 0s 7ms/step - loss: 0.4295 - accuracy: 0.9454\n",
      "Epoch 54/100\n",
      "6/6 [==============================] - 0s 7ms/step - loss: 0.4267 - accuracy: 0.9399\n",
      "Epoch 55/100\n",
      "6/6 [==============================] - 0s 7ms/step - loss: 0.4153 - accuracy: 0.9508\n",
      "Epoch 56/100\n",
      "6/6 [==============================] - 0s 7ms/step - loss: 0.4055 - accuracy: 0.9563\n",
      "Epoch 57/100\n",
      "6/6 [==============================] - 0s 7ms/step - loss: 0.3962 - accuracy: 0.9563\n",
      "Epoch 58/100\n",
      "6/6 [==============================] - 0s 7ms/step - loss: 0.3904 - accuracy: 0.9508\n",
      "Epoch 59/100\n",
      "6/6 [==============================] - 0s 7ms/step - loss: 0.3841 - accuracy: 0.9508\n",
      "Epoch 60/100\n",
      "6/6 [==============================] - 0s 7ms/step - loss: 0.3766 - accuracy: 0.9508\n",
      "Epoch 61/100\n",
      "6/6 [==============================] - 0s 7ms/step - loss: 0.3701 - accuracy: 0.9508\n",
      "Epoch 62/100\n",
      "6/6 [==============================] - 0s 7ms/step - loss: 0.3641 - accuracy: 0.9508\n",
      "Epoch 63/100\n",
      "6/6 [==============================] - 0s 5ms/step - loss: 0.3587 - accuracy: 0.9563\n",
      "Epoch 64/100\n",
      "6/6 [==============================] - 0s 7ms/step - loss: 0.3525 - accuracy: 0.9563\n",
      "Epoch 65/100\n",
      "6/6 [==============================] - 0s 7ms/step - loss: 0.3480 - accuracy: 0.9563\n",
      "Epoch 66/100\n",
      "6/6 [==============================] - 0s 8ms/step - loss: 0.3433 - accuracy: 0.9563\n",
      "Epoch 67/100\n",
      "6/6 [==============================] - 0s 7ms/step - loss: 0.3390 - accuracy: 0.9563\n",
      "Epoch 68/100\n",
      "6/6 [==============================] - 0s 8ms/step - loss: 0.3321 - accuracy: 0.9563\n",
      "Epoch 69/100\n",
      "6/6 [==============================] - 0s 5ms/step - loss: 0.3268 - accuracy: 0.9727\n",
      "Epoch 70/100\n",
      "6/6 [==============================] - 0s 8ms/step - loss: 0.3198 - accuracy: 0.9727\n",
      "Epoch 71/100\n",
      "6/6 [==============================] - 0s 7ms/step - loss: 0.3166 - accuracy: 0.9727\n",
      "Epoch 72/100\n",
      "6/6 [==============================] - 0s 7ms/step - loss: 0.3107 - accuracy: 0.9781\n",
      "Epoch 73/100\n",
      "6/6 [==============================] - 0s 7ms/step - loss: 0.3074 - accuracy: 0.9781\n",
      "Epoch 74/100\n",
      "6/6 [==============================] - 0s 6ms/step - loss: 0.3034 - accuracy: 0.9781\n",
      "Epoch 75/100\n",
      "6/6 [==============================] - 0s 6ms/step - loss: 0.2984 - accuracy: 0.9781\n",
      "Epoch 76/100\n",
      "6/6 [==============================] - 0s 6ms/step - loss: 0.2949 - accuracy: 0.9781\n",
      "Epoch 77/100\n",
      "6/6 [==============================] - 0s 6ms/step - loss: 0.2914 - accuracy: 0.9781\n",
      "Epoch 78/100\n",
      "6/6 [==============================] - 0s 7ms/step - loss: 0.2877 - accuracy: 0.9781\n",
      "Epoch 79/100\n",
      "6/6 [==============================] - 0s 8ms/step - loss: 0.2837 - accuracy: 0.9781\n",
      "Epoch 80/100\n",
      "6/6 [==============================] - 0s 6ms/step - loss: 0.2800 - accuracy: 0.9781\n",
      "Epoch 81/100\n",
      "6/6 [==============================] - 0s 7ms/step - loss: 0.2768 - accuracy: 0.9781\n",
      "Epoch 82/100\n",
      "6/6 [==============================] - 0s 7ms/step - loss: 0.2728 - accuracy: 0.9781\n",
      "Epoch 83/100\n",
      "6/6 [==============================] - 0s 6ms/step - loss: 0.2705 - accuracy: 0.9781\n",
      "Epoch 84/100\n"
     ]
    },
    {
     "name": "stdout",
     "output_type": "stream",
     "text": [
      "6/6 [==============================] - 0s 7ms/step - loss: 0.2670 - accuracy: 0.9781\n",
      "Epoch 85/100\n",
      "6/6 [==============================] - 0s 7ms/step - loss: 0.2641 - accuracy: 0.9781\n",
      "Epoch 86/100\n",
      "6/6 [==============================] - 0s 6ms/step - loss: 0.2613 - accuracy: 0.9781\n",
      "Epoch 87/100\n",
      "6/6 [==============================] - 0s 7ms/step - loss: 0.2582 - accuracy: 0.9781\n",
      "Epoch 88/100\n",
      "6/6 [==============================] - 0s 7ms/step - loss: 0.2548 - accuracy: 0.9781\n",
      "Epoch 89/100\n",
      "6/6 [==============================] - 0s 7ms/step - loss: 0.2530 - accuracy: 0.9781\n",
      "Epoch 90/100\n",
      "6/6 [==============================] - 0s 8ms/step - loss: 0.2475 - accuracy: 0.9836\n",
      "Epoch 91/100\n",
      "6/6 [==============================] - 0s 4ms/step - loss: 0.2439 - accuracy: 0.9836\n",
      "Epoch 92/100\n",
      "6/6 [==============================] - 0s 7ms/step - loss: 0.2401 - accuracy: 0.9836\n",
      "Epoch 93/100\n",
      "6/6 [==============================] - 0s 7ms/step - loss: 0.2341 - accuracy: 0.9836\n",
      "Epoch 94/100\n",
      "6/6 [==============================] - 0s 5ms/step - loss: 0.2300 - accuracy: 0.9836\n",
      "Epoch 95/100\n",
      "6/6 [==============================] - 0s 7ms/step - loss: 0.2273 - accuracy: 0.9836\n",
      "Epoch 96/100\n",
      "6/6 [==============================] - 0s 6ms/step - loss: 0.2223 - accuracy: 0.9836\n",
      "Epoch 97/100\n",
      "6/6 [==============================] - 0s 7ms/step - loss: 0.2137 - accuracy: 0.9945\n",
      "Epoch 98/100\n",
      "6/6 [==============================] - 0s 7ms/step - loss: 0.2053 - accuracy: 0.9945\n",
      "Epoch 99/100\n",
      "6/6 [==============================] - 0s 7ms/step - loss: 0.2020 - accuracy: 0.9945\n",
      "Epoch 100/100\n",
      "6/6 [==============================] - 0s 7ms/step - loss: 0.2016 - accuracy: 0.9945\n"
     ]
    },
    {
     "data": {
      "text/plain": [
       "<keras.callbacks.History at 0x1b4276a98d0>"
      ]
     },
     "execution_count": 20,
     "metadata": {},
     "output_type": "execute_result"
    }
   ],
   "source": [
    "model.fit(Xtrain, Ytrain, epochs = 100)"
   ]
  },
  {
   "cell_type": "code",
   "execution_count": 29,
   "id": "bb65c4ca",
   "metadata": {},
   "outputs": [
    {
     "data": {
      "text/plain": [
       "(None, 10, 100)"
      ]
     },
     "execution_count": 29,
     "metadata": {},
     "output_type": "execute_result"
    }
   ],
   "source": [
    "model.get_layer('lstm').input_shape"
   ]
  },
  {
   "cell_type": "markdown",
   "id": "0e49b715",
   "metadata": {},
   "source": [
    "## 4. Testing Model"
   ]
  },
  {
   "cell_type": "code",
   "execution_count": 21,
   "id": "cd9b0285",
   "metadata": {},
   "outputs": [
    {
     "name": "stdout",
     "output_type": "stream",
     "text": [
      "1/1 [==============================] - 1s 703ms/step\n",
      "I feel good 😃\n",
      "Lets play football ⚾\n",
      "lets eat dinner 🍽️\n"
     ]
    }
   ],
   "source": [
    "test = [\"I feel good\", \"Lets play football\", \"lets eat dinner\"]\n",
    "\n",
    "test_seq = tokenizer.texts_to_sequences(test)\n",
    "Xtest = pad_sequences(test_seq, maxlen = maxlen, padding = 'post', truncating = 'post')\n",
    "\n",
    "y_pred = model.predict(Xtest)\n",
    "y_pred = np.argmax(y_pred, axis = 1)\n",
    "\n",
    "for i in range(len(test)):\n",
    "    print(test[i], label_to_emoji(y_pred[i]))\n"
   ]
  },
  {
   "cell_type": "code",
   "execution_count": null,
   "id": "9fc57c9e",
   "metadata": {},
   "outputs": [],
   "source": []
  },
  {
   "cell_type": "code",
   "execution_count": null,
   "id": "3f3d72fe",
   "metadata": {},
   "outputs": [],
   "source": []
  }
 ],
 "metadata": {
  "kernelspec": {
   "display_name": "Python 3 (ipykernel)",
   "language": "python",
   "name": "python3"
  },
  "language_info": {
   "codemirror_mode": {
    "name": "ipython",
    "version": 3
   },
   "file_extension": ".py",
   "mimetype": "text/x-python",
   "name": "python",
   "nbconvert_exporter": "python",
   "pygments_lexer": "ipython3",
   "version": "3.10.4"
  }
 },
 "nbformat": 4,
 "nbformat_minor": 5
}
