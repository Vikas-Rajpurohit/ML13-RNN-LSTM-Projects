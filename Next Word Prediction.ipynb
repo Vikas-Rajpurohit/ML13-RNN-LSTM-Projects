{
 "cells": [
  {
   "cell_type": "code",
   "execution_count": 2,
   "id": "bb6db99b",
   "metadata": {},
   "outputs": [],
   "source": [
    "import numpy as np\n",
    "import tensorflow as tf\n",
    "from tensorflow.keras.preprocessing.text import Tokenizer\n",
    "from tensorflow.keras.preprocessing.sequence import pad_sequences\n",
    "from tensorflow.keras.models import Sequential\n",
    "from tensorflow.keras.layers import Embedding, LSTM, Dense"
   ]
  },
  {
   "cell_type": "code",
   "execution_count": 4,
   "id": "6f9d898c",
   "metadata": {},
   "outputs": [],
   "source": [
    "with open('data/IndiaUS.txt', 'r', encoding='utf-8') as myfile:\n",
    "    mytext = myfile.read()"
   ]
  },
  {
   "cell_type": "code",
   "execution_count": 8,
   "id": "01353be3",
   "metadata": {
    "collapsed": true
   },
   "outputs": [
    {
     "data": {
      "text/plain": [
       "'Following a lavish state visit by Indian Prime Minister Narendra Modi to Washington, US President Joe Biden has called his country\\'s partnership with India among the \"most consequential in the world\". The BBC\\'s Vikas Pandey and Soutik Biswas explore the factors that contribute to the visit\\'s potential in strengthening the ties between the two nations.\\n\\nThe US\\'s relationship with India - the world\\'s most populous country - is \"stronger, closer and more dynamic than any time in history\", Mr Biden said at the completion of a pomp-filled state visit by Mr Modi to the White House.\\n\\nThe remark may not be an exaggeration. \"This summit suggests that the relationship has been transformed. It underscores just how broad and deep it has become in a relatively short time,\" says Michael Kugelman of The Wilson Center, an American think-tank.\\n\\nA key reason is that Washington is keen to draw India closer so that it can act as a counterbalance to China\\'s growing influence in the Indo-Pacific. India-US ties had not lived up to their promise following a landmark civilian nuclear deal in 2005 because a liability law passed by India three years later hobbled purchase of reactors.\\n\\n\"This followed a fading commitment to the relationship during [former prime minister] Manmohan Singh\\'s second term as the leader of a coalition government. With Mr Modi there has been a lot more enthusiasm about embracing the US. Mr Biden has also given an overall broad directive to make it work,\" says Seema Sirohi, author of Friends With Benefits: The India-US Story.\\n\\nMs Sirohi says the US put in a \"lot of effort to make Mr Modi\\'s visit substantive and have a lot of deliverables\". Defence-industrial cooperation and technology topped the list. Consider this:\\n\\nGeneral Electric and India\\'s state-owned Hindustan Aeronautics Limited will make in India advanced fighter jet engines for the country\\'s indigenous light combat aircraft. This means a \"greater transfer of US jet engine technology than ever before\" - a clear sign that Washington not only wants to sell arms to India but is also comfortable with sharing military technology.\\nIndia will proceed with a $3bn purchase of the battle-tested MQ-9B Predator drones from General Atomics, which will also set up a facility in India. The drones will be assembled in India, which fits into Mr Modi\\'s \\'Make in India\\' campaign. The US supplies only 11% of India\\'s arms - Russia is the biggest (45%) supplier - but hopes to become the primary provider in the coming years. Mr Kugelman says Washington\\'s immediate goal is to \"strengthen India\\'s military capacity to counter China\".\\nMr Modi wants to make India a semiconductor base. US memory chip giant Micron Technology will invest up to $825m to build a semiconductor assembly and test facility in India, creating thousands of jobs.\\nUS semiconductor equipment maker Lam Research will train 60,000 Indian engineers through a network of interconnected labs and research centres to speed up India\\'s semiconductor education and workforce development. Also Applied Materials, the biggest maker of machines for producing semiconductors, will invest $400m to establish an engineering centre in India.\\n\"It is all about the future now. Both sides are talking about cutting-edge technologies and how to seed and shape the future,\" says Ms Sirohi.\\n\\n: U.S. President Joe Biden and first lady Jill Biden welcome India Prime Minister Narendra Modi to the White House on June 21, 2023 in Washington, DC\\nMr Biden and Mrs Biden welcome Mr Modi to the White House\\nThe India-US relationship has seen many ups and downs since the US seriously began courting India - first under President Bill Clinton and then under the George Bush administration. The response from India was measured, never overeager or too forthcoming.\\n\\nThe reason was the way India saw geopolitics and its own place in the global order. The strategy of nonalignment, started by India\\'s first prime minister Jawaharlal Nehru, has always been deeply rooted into India\\'s foreign policy.\\n\\nIndia never wanted to be seen in one camp or the other, or to be seen as junior strategic partner to a global superpower. Mr Modi has not left the ideals of what some describe as \"strategic altruism\" in Indian foreign policy.\\n\\nBut Mr Modi is leading a different kind of India, one which has considerably more economic and geopolitical heft. He has owned the India-US relations - he formed close bonds with former presidents Barack Obama and Donald Trump and now with Mr Biden.\\n\\nBut India\\'s \"strategic autonomy\" has not been sacrificed. Washington would have wanted India to go a step further on Russia and probably take a harder public stand on China.\\n\\nBut the Biden administration didn\\'t seem disappointed as Mr Modi repeated his line that \"this was not the era of war\" without mentioning Russia. The Indian prime minister did speak about the importance of beefing up humanitarian assistance to Ukraine. He didn\\'t mention China by name either but did talk about the importance of a free and prosperous Indo-Pacific.\\n\\nThis is how far Mr Modi could have pushed his administration\\'s policy without compromising on strategic autonomy. It may not have been the ideal way for Washington but it didn\\'t come in the way of making Mr Modi\\'s visit a success.\\n\\nThe United States Air Force (USAF) and Indian Air Force (IAF) personnel are posing in front of a United States Air Force (USAF) F-15 Eagle fighter jet during the joint \\'Exercise Cope India 2023\\' at the air force station in Kalaikunda, around 170 km west of Kolkata, on April 24th, 2023. \\nUS and Indian air force personnel pose in front of a US fighter jet during a joint exercise in India in April\\n\"The two militaries are working more closely together. They now have arrangements in place where they could use each other\\'s facilities for refuelling and maintenance purposes. They are holding joint exercises and they\\'re sharing a lot more intelligence. Credit to Mr Modi for managing to really test the limits of strategic autonomy. In the sense that he is getting about as close as you can to a major power without signing on to a full-fledged alliance,\" Mr Kugelman says.\\n\\nIndia and the US have had major trade differences in recent years over tariffs. Trade relations particularly suffered during the Trump administration.\\n\\nThe two sides were not expected to announce anything major in trade as it was understood that the discussions over that could continue later without overshadowing the visit.\\n\\nBut surprisingly, the two sides announced that six separate trade disputes at the World Trade Organization were resolved, including one that involved tariffs.\\n\\nThe US is now India\\'s top trading partner at $130bn in goods and Delhi is Washington\\'s eighth largest partner. While these numbers are impressive, analysts and policymakers feel there is a huge untapped potential. India is also a burgeoning market with an expanding middle class and it\\'s been positioning itself as an alternative to China to become a manufacturing hub for the world.\\n\\nPresident Joe Biden and Indian Prime Minister Narendra Modi participate in an arrival ceremony on the South Lawn of the White House on Thursday, June 22, 2023 in Washington, DC. President Biden is the first U.S. President to invite Prime Minister Modi for an official state visit\\nSome 2.7 million Indians live in the US\\nMany global firms and nations are interested in the proposal as they look to free the global supply chain from China\\'s dominance. In that context, the resolution of trade disputes will give further impetus to unlocking the full potential of India-US trade ties. Mr Modi has said that \"even sky is not the limit (for India-US) ties\".\\n\\nCritics in Washington have questioned India\\'s \"democratic backsliding\" under Mr Modi and his Hindu nationalist Bharatiya Janata Party (BJP). Mr Obama, in a television interview this week, emphasised the significance of addressing the \"protection of the Muslim minority in a predominantly Hindu India\" during discussions between Mr Biden and Mr Modi. \"The progressives in the Democratic Party are disturbed by what is happening in India. The realists and centrists are all for strengthening the relationship because of the China factor,\" says Ms Sirohi.\\n\\nBut on the whole, there is a bipartisan agreement to make the relationship deeper and broader. \"The India-US strategic partnership has certainly moved to the next level. It\\'s one of mutual need and mutual benefit,\" says Ms Sirohi.'"
      ]
     },
     "execution_count": 8,
     "metadata": {},
     "output_type": "execute_result"
    }
   ],
   "source": [
    "mytext"
   ]
  },
  {
   "cell_type": "code",
   "execution_count": null,
   "id": "3a86d705",
   "metadata": {},
   "outputs": [],
   "source": []
  },
  {
   "cell_type": "code",
   "execution_count": 9,
   "id": "3023c84d",
   "metadata": {},
   "outputs": [],
   "source": [
    "mytokenizer = Tokenizer()\n",
    "mytokenizer.fit_on_texts([mytext])\n",
    "total_words = len(mytokenizer.word_index) + 1"
   ]
  },
  {
   "cell_type": "code",
   "execution_count": 23,
   "id": "6505e9c3",
   "metadata": {},
   "outputs": [
    {
     "data": {
      "text/plain": [
       "4"
      ]
     },
     "execution_count": 23,
     "metadata": {},
     "output_type": "execute_result"
    }
   ],
   "source": [
    "mytokenizer.word_index['a']"
   ]
  },
  {
   "cell_type": "code",
   "execution_count": null,
   "id": "d04ab6e2",
   "metadata": {},
   "outputs": [],
   "source": []
  },
  {
   "cell_type": "code",
   "execution_count": 36,
   "id": "ffafb849",
   "metadata": {
    "collapsed": true
   },
   "outputs": [
    {
     "name": "stdout",
     "output_type": "stream",
     "text": [
      "Following a lavish state visit by Indian Prime Minister Narendra Modi to Washington, US President Joe Biden has called his country's partnership with India among the \"most consequential in the world\". The BBC's Vikas Pandey and Soutik Biswas explore the factors that contribute to the visit's potential in strengthening the ties between the two nations.\n",
      "[99, 4, 177, 50, 34, 35, 28, 29, 30, 71, 11, 2, 22, 9, 36, 72, 14, 12, 178, 51, 100, 101, 16, 6, 179, 1, 102, 180, 3, 1, 73, 1, 181, 182, 183, 5, 184, 185, 186, 1, 187, 13, 188, 2, 1, 189, 74, 3, 103, 1, 52, 104, 1, 53, 105]\n",
      "\n",
      "[]\n",
      "The US's relationship with India - the world's most populous country - is \"stronger, closer and more dynamic than any time in history\", Mr Biden said at the completion of a pomp-filled state visit by Mr Modi to the White House.\n",
      "[1, 190, 37, 16, 6, 1, 191, 102, 192, 193, 10, 194, 106, 5, 41, 195, 107, 196, 108, 3, 197, 8, 14, 109, 54, 1, 198, 7, 4, 199, 200, 50, 34, 35, 8, 11, 2, 1, 55, 56]\n",
      "\n",
      "[]\n",
      "The remark may not be an exaggeration. \"This summit suggests that the relationship has been transformed. It underscores just how broad and deep it has become in a relatively short time,\" says Michael Kugelman of The Wilson Center, an American think-tank.\n",
      "[1, 201, 110, 17, 57, 23, 202, 31, 203, 204, 13, 1, 37, 12, 38, 205, 24, 206, 207, 75, 111, 5, 208, 24, 12, 76, 3, 4, 209, 210, 108, 25, 211, 77, 7, 1, 212, 213, 23, 214, 215, 216]\n",
      "\n",
      "[]\n",
      "A key reason is that Washington is keen to draw India closer so that it can act as a counterbalance to China's growing influence in the Indo-Pacific. India-US ties had not lived up to their promise following a landmark civilian nuclear deal in 2005 because a liability law passed by India three years later hobbled purchase of reactors.\n",
      "[4, 217, 112, 10, 13, 22, 10, 218, 2, 219, 6, 106, 220, 13, 24, 113, 221, 15, 4, 222, 2, 114, 223, 224, 3, 1, 115, 116, 6, 9, 52, 117, 17, 225, 42, 2, 226, 227, 99, 4, 228, 229, 230, 231, 3, 232, 118, 4, 233, 234, 235, 35, 6, 236, 78, 119, 237, 120, 7, 238]\n",
      "\n",
      "[]\n",
      "\"This followed a fading commitment to the relationship during [former prime minister] Manmohan Singh's second term as the leader of a coalition government. With Mr Modi there has been a lot more enthusiasm about embracing the US. Mr Biden has also given an overall broad directive to make it work,\" says Seema Sirohi, author of Friends With Benefits: The India-US Story.\n",
      "[31, 239, 4, 240, 241, 2, 1, 37, 43, 121, 29, 30, 242, 243, 244, 245, 15, 1, 246, 7, 4, 247, 248, 16, 8, 11, 79, 12, 38, 4, 58, 41, 249, 39, 250, 1, 9, 8, 14, 12, 44, 251, 23, 252, 111, 253, 2, 45, 24, 254, 25, 255, 46, 256, 7, 257, 16, 258, 1, 6, 9, 259]\n",
      "\n",
      "[]\n",
      "Ms Sirohi says the US put in a \"lot of effort to make Mr Modi's visit substantive and have a lot of deliverables\". Defence-industrial cooperation and technology topped the list. Consider this:\n",
      "[59, 46, 25, 1, 9, 260, 3, 4, 58, 7, 261, 2, 45, 8, 80, 34, 262, 5, 32, 4, 58, 7, 263, 264, 265, 266, 5, 60, 267, 1, 268, 269, 31]\n",
      "\n",
      "[]\n",
      "General Electric and India's state-owned Hindustan Aeronautics Limited will make in India advanced fighter jet engines for the country's indigenous light combat aircraft. This means a \"greater transfer of US jet engine technology than ever before\" - a clear sign that Washington not only wants to sell arms to India but is also comfortable with sharing military technology.\n",
      "[122, 270, 5, 18, 50, 123, 271, 272, 273, 26, 45, 3, 6, 274, 81, 61, 275, 19, 1, 100, 276, 277, 278, 279, 31, 280, 4, 281, 282, 7, 9, 61, 283, 60, 107, 284, 285, 4, 286, 287, 13, 22, 17, 124, 125, 2, 288, 126, 2, 6, 20, 10, 44, 289, 16, 127, 128, 60]\n",
      "India will proceed with a $3bn purchase of the battle-tested MQ-9B Predator drones from General Atomics, which will also set up a facility in India. The drones will be assembled in India, which fits into Mr Modi's 'Make in India' campaign. The US supplies only 11% of India's arms - Russia is the biggest (45%) supplier - but hopes to become the primary provider in the coming years. Mr Kugelman says Washington's immediate goal is to \"strengthen India's military capacity to counter China\".\n",
      "[6, 26, 290, 16, 4, 291, 120, 7, 1, 292, 293, 294, 295, 296, 129, 82, 122, 297, 83, 26, 44, 298, 42, 4, 130, 3, 6, 1, 129, 26, 57, 299, 3, 6, 83, 300, 131, 8, 80, 301, 3, 302, 303, 1, 9, 304, 124, 305, 7, 18, 126, 84, 10, 1, 132, 306, 307, 20, 308, 2, 76, 1, 309, 310, 3, 1, 311, 78, 8, 77, 25, 133, 312, 313, 10, 2, 314, 18, 128, 315, 2, 316, 47]\n",
      "Mr Modi wants to make India a semiconductor base. US memory chip giant Micron Technology will invest up to $825m to build a semiconductor assembly and test facility in India, creating thousands of jobs.\n",
      "[8, 11, 125, 2, 45, 6, 4, 62, 317, 9, 318, 319, 320, 321, 60, 26, 134, 42, 2, 322, 2, 323, 4, 62, 324, 5, 135, 130, 3, 6, 325, 326, 7, 327]\n",
      "US semiconductor equipment maker Lam Research will train 60,000 Indian engineers through a network of interconnected labs and research centres to speed up India's semiconductor education and workforce development. Also Applied Materials, the biggest maker of machines for producing semiconductors, will invest $400m to establish an engineering centre in India.\n",
      "[9, 62, 328, 136, 329, 137, 26, 330, 331, 332, 28, 333, 334, 4, 335, 7, 336, 337, 5, 137, 338, 2, 339, 42, 18, 62, 340, 5, 341, 342, 44, 343, 344, 1, 132, 136, 7, 345, 19, 346, 347, 26, 134, 348, 2, 349, 23, 350, 351, 3, 6]\n",
      "\"It is all about the future now. Both sides are talking about cutting-edge technologies and how to seed and shape the future,\" says Ms Sirohi.\n",
      "[24, 10, 138, 39, 1, 139, 63, 352, 85, 27, 353, 39, 354, 355, 356, 5, 75, 2, 357, 5, 358, 1, 139, 25, 59, 46]\n",
      "\n",
      "[]\n",
      ": U.S. President Joe Biden and first lady Jill Biden welcome India Prime Minister Narendra Modi to the White House on June 21, 2023 in Washington, DC\n",
      "[140, 141, 36, 72, 14, 5, 64, 359, 360, 14, 142, 6, 29, 30, 71, 11, 2, 1, 55, 56, 21, 143, 361, 86, 3, 22, 144]\n",
      "Mr Biden and Mrs Biden welcome Mr Modi to the White House\n",
      "[8, 14, 5, 362, 14, 142, 8, 11, 2, 1, 55, 56]\n",
      "The India-US relationship has seen many ups and downs since the US seriously began courting India - first under President Bill Clinton and then under the George Bush administration. The response from India was measured, never overeager or too forthcoming.\n",
      "[1, 6, 9, 37, 12, 87, 145, 363, 5, 364, 365, 1, 9, 366, 367, 368, 6, 64, 88, 36, 369, 370, 5, 371, 88, 1, 372, 373, 89, 1, 374, 82, 6, 65, 375, 146, 376, 90, 377, 378]\n",
      "\n",
      "[]\n",
      "The reason was the way India saw geopolitics and its own place in the global order. The strategy of nonalignment, started by India's first prime minister Jawaharlal Nehru, has always been deeply rooted into India's foreign policy.\n",
      "[1, 112, 65, 1, 91, 6, 379, 380, 5, 381, 382, 147, 3, 1, 66, 383, 1, 384, 7, 385, 386, 35, 18, 64, 29, 30, 387, 388, 12, 389, 38, 390, 391, 131, 18, 148, 92]\n",
      "\n",
      "[]\n",
      "India never wanted to be seen in one camp or the other, or to be seen as junior strategic partner to a global superpower. Mr Modi has not left the ideals of what some describe as \"strategic altruism\" in Indian foreign policy.\n",
      "[6, 146, 149, 2, 57, 87, 3, 67, 392, 90, 1, 393, 90, 2, 57, 87, 15, 394, 40, 93, 2, 4, 66, 395, 8, 11, 12, 17, 396, 1, 397, 7, 150, 151, 398, 15, 40, 399, 3, 28, 148, 92]\n",
      "\n",
      "[]\n",
      "But Mr Modi is leading a different kind of India, one which has considerably more economic and geopolitical heft. He has owned the India-US relations - he formed close bonds with former presidents Barack Obama and Donald Trump and now with Mr Biden.\n",
      "[20, 8, 11, 10, 400, 4, 401, 402, 7, 6, 67, 83, 12, 403, 41, 404, 5, 405, 406, 68, 12, 123, 1, 6, 9, 152, 68, 407, 153, 408, 16, 121, 409, 410, 154, 5, 411, 155, 5, 63, 16, 8, 14]\n",
      "\n",
      "[]\n",
      "But India's \"strategic autonomy\" has not been sacrificed. Washington would have wanted India to go a step further on Russia and probably take a harder public stand on China.\n",
      "[20, 18, 40, 94, 12, 17, 38, 412, 22, 413, 32, 149, 6, 2, 414, 4, 415, 156, 21, 84, 5, 416, 417, 4, 418, 419, 420, 21, 47]\n",
      "\n",
      "[]\n",
      "But the Biden administration didn't seem disappointed as Mr Modi repeated his line that \"this was not the era of war\" without mentioning Russia. The Indian prime minister did speak about the importance of beefing up humanitarian assistance to Ukraine. He didn't mention China by name either but did talk about the importance of a free and prosperous Indo-Pacific.\n",
      "[20, 1, 14, 89, 95, 421, 422, 15, 8, 11, 423, 51, 424, 13, 31, 65, 17, 1, 425, 7, 426, 69, 427, 84, 1, 28, 29, 30, 157, 428, 39, 1, 158, 7, 429, 42, 430, 431, 2, 432, 68, 95, 433, 47, 35, 434, 435, 20, 157, 436, 39, 1, 158, 7, 4, 159, 5, 437, 115, 116]\n",
      "\n",
      "[]\n",
      "This is how far Mr Modi could have pushed his administration's policy without compromising on strategic autonomy. It may not have been the ideal way for Washington but it didn't come in the way of making Mr Modi's visit a success.\n",
      "[31, 10, 75, 438, 8, 11, 96, 32, 439, 51, 440, 92, 69, 441, 21, 40, 94, 24, 110, 17, 32, 38, 1, 442, 91, 19, 22, 20, 24, 95, 443, 3, 1, 91, 7, 444, 8, 80, 34, 4, 445]\n",
      "\n",
      "[]\n",
      "The United States Air Force (USAF) and Indian Air Force (IAF) personnel are posing in front of a United States Air Force (USAF) F-15 Eagle fighter jet during the joint 'Exercise Cope India 2023' at the air force station in Kalaikunda, around 170 km west of Kolkata, on April 24th, 2023. \n",
      "[1, 160, 161, 48, 49, 162, 5, 28, 48, 49, 446, 163, 27, 447, 3, 164, 7, 4, 160, 161, 48, 49, 162, 448, 449, 450, 81, 61, 43, 1, 97, 451, 452, 6, 453, 54, 1, 48, 49, 454, 3, 455, 456, 457, 458, 459, 7, 460, 21, 165, 461, 86]\n",
      "US and Indian air force personnel pose in front of a US fighter jet during a joint exercise in India in April\n",
      "[9, 5, 28, 48, 49, 163, 462, 3, 164, 7, 4, 9, 81, 61, 43, 4, 97, 463, 3, 6, 3, 165]\n",
      "\"The two militaries are working more closely together. They now have arrangements in place where they could use each other's facilities for refuelling and maintenance purposes. They are holding joint exercises and they're sharing a lot more intelligence. Credit to Mr Modi for managing to really test the limits of strategic autonomy. In the sense that he is getting about as close as you can to a major power without signing on to a full-fledged alliance,\" Mr Kugelman says.\n",
      "[1, 53, 464, 27, 465, 41, 466, 467, 70, 63, 32, 468, 3, 147, 469, 70, 96, 470, 471, 472, 473, 19, 474, 5, 475, 476, 70, 27, 477, 97, 478, 5, 479, 127, 4, 58, 41, 480, 481, 2, 8, 11, 19, 482, 2, 483, 135, 1, 484, 7, 40, 94, 3, 1, 485, 13, 68, 10, 486, 39, 15, 153, 15, 487, 113, 2, 4, 98, 488, 69, 489, 21, 2, 4, 166, 490, 491, 8, 77, 25]\n",
      "\n",
      "[]\n",
      "India and the US have had major trade differences in recent years over tariffs. Trade relations particularly suffered during the Trump administration.\n",
      "[6, 5, 1, 9, 32, 117, 98, 33, 492, 3, 493, 78, 167, 168, 33, 152, 494, 495, 43, 1, 155, 89]\n",
      "\n",
      "[]\n",
      "The two sides were not expected to announce anything major in trade as it was understood that the discussions over that could continue later without overshadowing the visit.\n",
      "[1, 53, 85, 169, 17, 496, 2, 497, 498, 98, 3, 33, 15, 24, 65, 499, 13, 1, 170, 167, 13, 96, 500, 119, 69, 501, 1, 34]\n",
      "\n",
      "[]\n",
      "But surprisingly, the two sides announced that six separate trade disputes at the World Trade Organization were resolved, including one that involved tariffs.\n",
      "[20, 502, 1, 53, 85, 503, 13, 504, 505, 33, 171, 54, 1, 73, 33, 506, 169, 507, 508, 67, 13, 509, 168]\n",
      "\n",
      "[]\n",
      "The US is now India's top trading partner at $130bn in goods and Delhi is Washington's eighth largest partner. While these numbers are impressive, analysts and policymakers feel there is a huge untapped potential. India is also a burgeoning market with an expanding middle class and it's been positioning itself as an alternative to China to become a manufacturing hub for the world.\n",
      "[1, 9, 10, 63, 18, 510, 511, 93, 54, 512, 3, 513, 5, 514, 10, 133, 515, 516, 93, 517, 518, 519, 27, 520, 521, 5, 522, 523, 79, 10, 4, 524, 525, 74, 6, 10, 44, 4, 526, 527, 16, 23, 528, 529, 530, 5, 172, 38, 531, 532, 15, 23, 533, 2, 47, 2, 76, 4, 534, 535, 19, 1, 73]\n",
      "\n",
      "[]\n",
      "President Joe Biden and Indian Prime Minister Narendra Modi participate in an arrival ceremony on the South Lawn of the White House on Thursday, June 22, 2023 in Washington, DC. President Biden is the first U.S. President to invite Prime Minister Modi for an official state visit\n",
      "[36, 72, 14, 5, 28, 29, 30, 71, 11, 536, 3, 23, 537, 538, 21, 1, 539, 540, 7, 1, 55, 56, 21, 541, 143, 542, 86, 3, 22, 144, 36, 14, 10, 1, 64, 140, 141, 36, 2, 543, 29, 30, 11, 19, 23, 544, 50, 34]\n",
      "Some 2.7 million Indians live in the US\n",
      "[151, 545, 546, 547, 548, 549, 3, 1, 9]\n",
      "Many global firms and nations are interested in the proposal as they look to free the global supply chain from China's dominance. In that context, the resolution of trade disputes will give further impetus to unlocking the full potential of India-US trade ties. Mr Modi has said that \"even sky is not the limit (for India-US) ties\".\n",
      "[145, 66, 550, 5, 105, 27, 551, 3, 1, 552, 15, 70, 553, 2, 159, 1, 66, 554, 555, 82, 114, 556, 3, 13, 557, 1, 558, 7, 33, 171, 26, 559, 156, 560, 2, 561, 1, 166, 74, 7, 6, 9, 33, 52, 8, 11, 12, 109, 13, 562, 563, 10, 17, 1, 564, 19, 6, 9, 52]\n",
      "\n",
      "[]\n",
      "Critics in Washington have questioned India's \"democratic backsliding\" under Mr Modi and his Hindu nationalist Bharatiya Janata Party (BJP). Mr Obama, in a television interview this week, emphasised the significance of addressing the \"protection of the Muslim minority in a predominantly Hindu India\" during discussions between Mr Biden and Mr Modi. \"The progressives in the Democratic Party are disturbed by what is happening in India. The realists and centrists are all for strengthening the relationship because of the China factor,\" says Ms Sirohi.\n",
      "[565, 3, 22, 32, 566, 18, 173, 567, 88, 8, 11, 5, 51, 174, 568, 569, 570, 175, 571, 8, 154, 3, 4, 572, 573, 31, 574, 575, 1, 576, 7, 577, 1, 578, 7, 1, 579, 580, 3, 4, 581, 174, 6, 43, 170, 104, 8, 14, 5, 8, 11, 1, 582, 3, 1, 173, 175, 27, 583, 35, 150, 10, 584, 3, 6, 1, 585, 5, 586, 27, 138, 19, 103, 1, 37, 118, 7, 1, 47, 587, 25, 59, 46]\n",
      "\n",
      "[]\n",
      "But on the whole, there is a bipartisan agreement to make the relationship deeper and broader. \"The India-US strategic partnership has certainly moved to the next level. It's one of mutual need and mutual benefit,\" says Ms Sirohi.\n",
      "[20, 21, 1, 588, 79, 10, 4, 589, 590, 2, 45, 1, 37, 591, 5, 592, 1, 6, 9, 40, 101, 12, 593, 594, 2, 1, 595, 596, 172, 67, 7, 176, 597, 5, 176, 598, 25, 59, 46]\n"
     ]
    }
   ],
   "source": [
    "my_input_seq = []\n",
    "\n",
    "for line in mytext.split('\\n'):\n",
    "    print(line)\n",
    "    token_list = mytokenizer.texts_to_sequences([line])[0]\n",
    "    print(token_list)\n",
    "    \n",
    "    for i in range(1, len(token_list)):\n",
    "        my_n_gram_seq = token_list[:i+1]\n",
    "        \n",
    "        my_input_seq.append(my_n_gram_seq)\n",
    "        "
   ]
  },
  {
   "cell_type": "code",
   "execution_count": 46,
   "id": "003e5364",
   "metadata": {},
   "outputs": [
    {
     "name": "stdout",
     "output_type": "stream",
     "text": [
      "83\n"
     ]
    }
   ],
   "source": [
    "max_sequence_len = 0\n",
    "for line in mytext.split('\\n'):\n",
    "    max_sequence_len = max(len(line.split()),max_sequence_len)\n",
    "    \n",
    "print(max_sequence_len)\n",
    "\n",
    "input_sequences = np.array(pad_sequences(my_input_seq, maxlen=max_sequence_len, padding='pre'))"
   ]
  },
  {
   "cell_type": "code",
   "execution_count": null,
   "id": "6dabbf92",
   "metadata": {},
   "outputs": [],
   "source": []
  },
  {
   "cell_type": "code",
   "execution_count": 47,
   "id": "f61942fb",
   "metadata": {},
   "outputs": [],
   "source": [
    "X = input_sequences[:, :-1]\n",
    "Y = input_sequences[:, -1]"
   ]
  },
  {
   "cell_type": "code",
   "execution_count": 53,
   "id": "cbb8b6d0",
   "metadata": {},
   "outputs": [
    {
     "data": {
      "text/plain": [
       "array([ 0,  0,  0,  0,  0,  0,  0,  0,  0,  0,  0,  0,  0,  0,  0,  0,  0,\n",
       "        0,  0,  0,  0,  0,  0,  0,  0,  0,  0,  0,  0,  0,  0,  0,  0,  0,\n",
       "        0,  0,  0,  0,  0,  0,  0,  0,  0,  0,  0,  0,  0,  0,  0,  0,  0,\n",
       "        0,  0,  0,  0,  0,  0,  0,  0,  0,  0,  0,  0,  0,  0,  0,  0,  0,\n",
       "        0,  0,  0,  0,  0,  0,  0,  0,  0,  0,  0,  0, 99,  4])"
      ]
     },
     "execution_count": 53,
     "metadata": {},
     "output_type": "execute_result"
    }
   ],
   "source": [
    "X[1]"
   ]
  },
  {
   "cell_type": "code",
   "execution_count": 54,
   "id": "70ae2e3e",
   "metadata": {},
   "outputs": [
    {
     "data": {
      "text/plain": [
       "177"
      ]
     },
     "execution_count": 54,
     "metadata": {},
     "output_type": "execute_result"
    }
   ],
   "source": [
    "Y[1]"
   ]
  },
  {
   "cell_type": "code",
   "execution_count": 56,
   "id": "b1c33a9e",
   "metadata": {},
   "outputs": [],
   "source": [
    "Y = np.array(tf.keras.utils.to_categorical(Y, num_classes=total_words))"
   ]
  },
  {
   "cell_type": "code",
   "execution_count": 57,
   "id": "2c2120db",
   "metadata": {
    "collapsed": true
   },
   "outputs": [
    {
     "data": {
      "text/plain": [
       "array([0., 0., 0., 0., 0., 0., 0., 0., 0., 0., 0., 0., 0., 0., 0., 0., 0.,\n",
       "       0., 0., 0., 0., 0., 0., 0., 0., 0., 0., 0., 0., 0., 0., 0., 0., 0.,\n",
       "       0., 0., 0., 0., 0., 0., 0., 0., 0., 0., 0., 0., 0., 0., 0., 0., 0.,\n",
       "       0., 0., 0., 0., 0., 0., 0., 0., 0., 0., 0., 0., 0., 0., 0., 0., 0.,\n",
       "       0., 0., 0., 0., 0., 0., 0., 0., 0., 0., 0., 0., 0., 0., 0., 0., 0.,\n",
       "       0., 0., 0., 0., 0., 0., 0., 0., 0., 0., 0., 0., 0., 0., 0., 0., 0.,\n",
       "       0., 0., 0., 0., 0., 0., 0., 0., 0., 0., 0., 0., 0., 0., 0., 0., 0.,\n",
       "       0., 0., 0., 0., 0., 0., 0., 0., 0., 0., 0., 0., 0., 0., 0., 0., 0.,\n",
       "       0., 0., 0., 0., 0., 0., 0., 0., 0., 0., 0., 0., 0., 0., 0., 0., 0.,\n",
       "       0., 0., 0., 0., 0., 0., 0., 0., 0., 0., 0., 0., 0., 0., 0., 0., 0.,\n",
       "       0., 0., 0., 0., 0., 0., 0., 1., 0., 0., 0., 0., 0., 0., 0., 0., 0.,\n",
       "       0., 0., 0., 0., 0., 0., 0., 0., 0., 0., 0., 0., 0., 0., 0., 0., 0.,\n",
       "       0., 0., 0., 0., 0., 0., 0., 0., 0., 0., 0., 0., 0., 0., 0., 0., 0.,\n",
       "       0., 0., 0., 0., 0., 0., 0., 0., 0., 0., 0., 0., 0., 0., 0., 0., 0.,\n",
       "       0., 0., 0., 0., 0., 0., 0., 0., 0., 0., 0., 0., 0., 0., 0., 0., 0.,\n",
       "       0., 0., 0., 0., 0., 0., 0., 0., 0., 0., 0., 0., 0., 0., 0., 0., 0.,\n",
       "       0., 0., 0., 0., 0., 0., 0., 0., 0., 0., 0., 0., 0., 0., 0., 0., 0.,\n",
       "       0., 0., 0., 0., 0., 0., 0., 0., 0., 0., 0., 0., 0., 0., 0., 0., 0.,\n",
       "       0., 0., 0., 0., 0., 0., 0., 0., 0., 0., 0., 0., 0., 0., 0., 0., 0.,\n",
       "       0., 0., 0., 0., 0., 0., 0., 0., 0., 0., 0., 0., 0., 0., 0., 0., 0.,\n",
       "       0., 0., 0., 0., 0., 0., 0., 0., 0., 0., 0., 0., 0., 0., 0., 0., 0.,\n",
       "       0., 0., 0., 0., 0., 0., 0., 0., 0., 0., 0., 0., 0., 0., 0., 0., 0.,\n",
       "       0., 0., 0., 0., 0., 0., 0., 0., 0., 0., 0., 0., 0., 0., 0., 0., 0.,\n",
       "       0., 0., 0., 0., 0., 0., 0., 0., 0., 0., 0., 0., 0., 0., 0., 0., 0.,\n",
       "       0., 0., 0., 0., 0., 0., 0., 0., 0., 0., 0., 0., 0., 0., 0., 0., 0.,\n",
       "       0., 0., 0., 0., 0., 0., 0., 0., 0., 0., 0., 0., 0., 0., 0., 0., 0.,\n",
       "       0., 0., 0., 0., 0., 0., 0., 0., 0., 0., 0., 0., 0., 0., 0., 0., 0.,\n",
       "       0., 0., 0., 0., 0., 0., 0., 0., 0., 0., 0., 0., 0., 0., 0., 0., 0.,\n",
       "       0., 0., 0., 0., 0., 0., 0., 0., 0., 0., 0., 0., 0., 0., 0., 0., 0.,\n",
       "       0., 0., 0., 0., 0., 0., 0., 0., 0., 0., 0., 0., 0., 0., 0., 0., 0.,\n",
       "       0., 0., 0., 0., 0., 0., 0., 0., 0., 0., 0., 0., 0., 0., 0., 0., 0.,\n",
       "       0., 0., 0., 0., 0., 0., 0., 0., 0., 0., 0., 0., 0., 0., 0., 0., 0.,\n",
       "       0., 0., 0., 0., 0., 0., 0., 0., 0., 0., 0., 0., 0., 0., 0., 0., 0.,\n",
       "       0., 0., 0., 0., 0., 0., 0., 0., 0., 0., 0., 0., 0., 0., 0., 0., 0.,\n",
       "       0., 0., 0., 0., 0., 0., 0., 0., 0., 0., 0., 0., 0., 0., 0., 0., 0.,\n",
       "       0., 0., 0., 0.], dtype=float32)"
      ]
     },
     "execution_count": 57,
     "metadata": {},
     "output_type": "execute_result"
    }
   ],
   "source": [
    "Y[1]"
   ]
  },
  {
   "cell_type": "code",
   "execution_count": null,
   "id": "ad94a251",
   "metadata": {},
   "outputs": [],
   "source": []
  },
  {
   "cell_type": "code",
   "execution_count": 58,
   "id": "21e0fb17",
   "metadata": {},
   "outputs": [
    {
     "name": "stdout",
     "output_type": "stream",
     "text": [
      "Model: \"sequential\"\n",
      "_________________________________________________________________\n",
      " Layer (type)                Output Shape              Param #   \n",
      "=================================================================\n",
      " embedding (Embedding)       (None, 82, 100)           59900     \n",
      "                                                                 \n",
      " lstm (LSTM)                 (None, 150)               150600    \n",
      "                                                                 \n",
      " dense (Dense)               (None, 599)               90449     \n",
      "                                                                 \n",
      "=================================================================\n",
      "Total params: 300,949\n",
      "Trainable params: 300,949\n",
      "Non-trainable params: 0\n",
      "_________________________________________________________________\n",
      "None\n"
     ]
    }
   ],
   "source": [
    "model = Sequential()\n",
    "model.add(Embedding(total_words, 100, input_length=max_sequence_len-1))\n",
    "model.add(LSTM(150))\n",
    "model.add(Dense(total_words, activation='softmax'))\n",
    "print(model.summary())"
   ]
  },
  {
   "cell_type": "code",
   "execution_count": 59,
   "id": "0e5007dd",
   "metadata": {},
   "outputs": [
    {
     "data": {
      "text/plain": [
       "(None, 82)"
      ]
     },
     "execution_count": 59,
     "metadata": {},
     "output_type": "execute_result"
    }
   ],
   "source": [
    "model.input_shape"
   ]
  },
  {
   "cell_type": "code",
   "execution_count": 60,
   "id": "194d2fa3",
   "metadata": {},
   "outputs": [
    {
     "data": {
      "text/plain": [
       "(None, 599)"
      ]
     },
     "execution_count": 60,
     "metadata": {},
     "output_type": "execute_result"
    }
   ],
   "source": [
    "model.output_shape"
   ]
  },
  {
   "cell_type": "code",
   "execution_count": 62,
   "id": "acafa138",
   "metadata": {
    "collapsed": true
   },
   "outputs": [
    {
     "name": "stdout",
     "output_type": "stream",
     "text": [
      "Epoch 1/100\n",
      "43/43 [==============================] - 11s 155ms/step - loss: 6.1943 - accuracy: 0.0518\n",
      "Epoch 2/100\n",
      "43/43 [==============================] - 7s 169ms/step - loss: 5.8066 - accuracy: 0.0576\n",
      "Epoch 3/100\n",
      "43/43 [==============================] - 7s 167ms/step - loss: 5.7257 - accuracy: 0.0576\n",
      "Epoch 4/100\n",
      "43/43 [==============================] - 7s 168ms/step - loss: 5.6771 - accuracy: 0.0576\n",
      "Epoch 5/100\n",
      "43/43 [==============================] - 7s 166ms/step - loss: 5.5966 - accuracy: 0.0576\n",
      "Epoch 6/100\n",
      "43/43 [==============================] - 7s 169ms/step - loss: 5.4950 - accuracy: 0.0576\n",
      "Epoch 7/100\n",
      "43/43 [==============================] - 7s 170ms/step - loss: 5.3707 - accuracy: 0.0613\n",
      "Epoch 8/100\n",
      "43/43 [==============================] - 7s 160ms/step - loss: 5.2072 - accuracy: 0.0802\n",
      "Epoch 9/100\n",
      "43/43 [==============================] - 7s 164ms/step - loss: 4.9996 - accuracy: 0.1050\n",
      "Epoch 10/100\n",
      "43/43 [==============================] - 7s 160ms/step - loss: 4.7552 - accuracy: 0.1320\n",
      "Epoch 11/100\n",
      "43/43 [==============================] - 7s 164ms/step - loss: 4.4915 - accuracy: 0.1510\n",
      "Epoch 12/100\n",
      "43/43 [==============================] - 7s 164ms/step - loss: 4.2340 - accuracy: 0.1707\n",
      "Epoch 13/100\n",
      "43/43 [==============================] - 7s 165ms/step - loss: 3.9696 - accuracy: 0.2071\n",
      "Epoch 14/100\n",
      "43/43 [==============================] - 7s 167ms/step - loss: 3.7094 - accuracy: 0.2261\n",
      "Epoch 15/100\n",
      "43/43 [==============================] - 7s 167ms/step - loss: 3.4560 - accuracy: 0.2735\n",
      "Epoch 16/100\n",
      "43/43 [==============================] - 7s 164ms/step - loss: 3.2184 - accuracy: 0.3078\n",
      "Epoch 17/100\n",
      "43/43 [==============================] - 7s 164ms/step - loss: 2.9745 - accuracy: 0.3581\n",
      "Epoch 18/100\n",
      "43/43 [==============================] - 7s 165ms/step - loss: 2.7445 - accuracy: 0.4121\n",
      "Epoch 19/100\n",
      "43/43 [==============================] - 7s 161ms/step - loss: 2.5291 - accuracy: 0.4748\n",
      "Epoch 20/100\n",
      "43/43 [==============================] - 7s 160ms/step - loss: 2.3180 - accuracy: 0.5616\n",
      "Epoch 21/100\n",
      "43/43 [==============================] - 7s 161ms/step - loss: 2.1280 - accuracy: 0.6134\n",
      "Epoch 22/100\n",
      "43/43 [==============================] - 7s 157ms/step - loss: 1.9451 - accuracy: 0.6710\n",
      "Epoch 23/100\n",
      "43/43 [==============================] - 7s 156ms/step - loss: 1.7749 - accuracy: 0.7301\n",
      "Epoch 24/100\n",
      "43/43 [==============================] - 6s 152ms/step - loss: 1.6204 - accuracy: 0.7564\n",
      "Epoch 25/100\n",
      "43/43 [==============================] - 7s 158ms/step - loss: 1.4721 - accuracy: 0.8031\n",
      "Epoch 26/100\n",
      "43/43 [==============================] - 7s 157ms/step - loss: 1.3308 - accuracy: 0.8293\n",
      "Epoch 27/100\n",
      "43/43 [==============================] - 7s 157ms/step - loss: 1.2109 - accuracy: 0.8673\n",
      "Epoch 28/100\n",
      "43/43 [==============================] - 7s 157ms/step - loss: 1.1029 - accuracy: 0.8833\n",
      "Epoch 29/100\n",
      "43/43 [==============================] - 7s 157ms/step - loss: 1.0026 - accuracy: 0.9081\n",
      "Epoch 30/100\n",
      "43/43 [==============================] - 7s 163ms/step - loss: 0.9069 - accuracy: 0.9168\n",
      "Epoch 31/100\n",
      "43/43 [==============================] - 7s 158ms/step - loss: 0.8256 - accuracy: 0.9278\n",
      "Epoch 32/100\n",
      "43/43 [==============================] - 7s 159ms/step - loss: 0.7531 - accuracy: 0.9387\n",
      "Epoch 33/100\n",
      "43/43 [==============================] - 7s 157ms/step - loss: 0.6896 - accuracy: 0.9475\n",
      "Epoch 34/100\n",
      "43/43 [==============================] - 7s 152ms/step - loss: 0.6270 - accuracy: 0.9540\n",
      "Epoch 35/100\n",
      "43/43 [==============================] - 6s 151ms/step - loss: 0.5760 - accuracy: 0.9584\n",
      "Epoch 36/100\n",
      "43/43 [==============================] - 5s 113ms/step - loss: 0.5252 - accuracy: 0.9635\n",
      "Epoch 37/100\n",
      "43/43 [==============================] - 6s 139ms/step - loss: 0.4827 - accuracy: 0.9723\n",
      "Epoch 38/100\n",
      "43/43 [==============================] - 6s 143ms/step - loss: 0.4443 - accuracy: 0.9767\n",
      "Epoch 39/100\n",
      "43/43 [==============================] - 7s 154ms/step - loss: 0.4098 - accuracy: 0.9759\n",
      "Epoch 40/100\n",
      "43/43 [==============================] - 7s 159ms/step - loss: 0.3809 - accuracy: 0.9825\n",
      "Epoch 41/100\n",
      "43/43 [==============================] - 6s 139ms/step - loss: 0.3516 - accuracy: 0.9803\n",
      "Epoch 42/100\n",
      "43/43 [==============================] - 6s 143ms/step - loss: 0.3255 - accuracy: 0.9825\n",
      "Epoch 43/100\n",
      "43/43 [==============================] - 6s 150ms/step - loss: 0.3033 - accuracy: 0.9825\n",
      "Epoch 44/100\n",
      "43/43 [==============================] - 7s 156ms/step - loss: 0.2830 - accuracy: 0.9840\n",
      "Epoch 45/100\n",
      "43/43 [==============================] - 6s 148ms/step - loss: 0.2626 - accuracy: 0.9840\n",
      "Epoch 46/100\n",
      "43/43 [==============================] - 6s 146ms/step - loss: 0.2474 - accuracy: 0.9861\n",
      "Epoch 47/100\n",
      "43/43 [==============================] - 6s 147ms/step - loss: 0.2308 - accuracy: 0.9869\n",
      "Epoch 48/100\n",
      "43/43 [==============================] - 6s 144ms/step - loss: 0.2181 - accuracy: 0.9854\n",
      "Epoch 49/100\n",
      "43/43 [==============================] - 7s 153ms/step - loss: 0.2066 - accuracy: 0.9869\n",
      "Epoch 50/100\n",
      "43/43 [==============================] - 6s 141ms/step - loss: 0.1938 - accuracy: 0.9840\n",
      "Epoch 51/100\n",
      "43/43 [==============================] - 6s 140ms/step - loss: 0.1825 - accuracy: 0.9861\n",
      "Epoch 52/100\n",
      "43/43 [==============================] - 6s 133ms/step - loss: 0.1739 - accuracy: 0.9861\n",
      "Epoch 53/100\n",
      "43/43 [==============================] - 6s 136ms/step - loss: 0.1640 - accuracy: 0.9869\n",
      "Epoch 54/100\n",
      "43/43 [==============================] - 6s 141ms/step - loss: 0.1566 - accuracy: 0.9861\n",
      "Epoch 55/100\n",
      "43/43 [==============================] - 7s 153ms/step - loss: 0.1495 - accuracy: 0.9854\n",
      "Epoch 56/100\n",
      "43/43 [==============================] - 6s 142ms/step - loss: 0.1424 - accuracy: 0.9847\n",
      "Epoch 57/100\n",
      "43/43 [==============================] - 6s 135ms/step - loss: 0.1357 - accuracy: 0.9869\n",
      "Epoch 58/100\n",
      "43/43 [==============================] - 6s 140ms/step - loss: 0.1294 - accuracy: 0.9869\n",
      "Epoch 59/100\n",
      "43/43 [==============================] - 6s 138ms/step - loss: 0.1246 - accuracy: 0.9861\n",
      "Epoch 60/100\n",
      "43/43 [==============================] - 6s 142ms/step - loss: 0.1198 - accuracy: 0.9869\n",
      "Epoch 61/100\n",
      "43/43 [==============================] - 6s 145ms/step - loss: 0.1158 - accuracy: 0.9876\n",
      "Epoch 62/100\n",
      "43/43 [==============================] - 7s 158ms/step - loss: 0.1107 - accuracy: 0.9869\n",
      "Epoch 63/100\n",
      "43/43 [==============================] - 6s 143ms/step - loss: 0.1073 - accuracy: 0.9861\n",
      "Epoch 64/100\n",
      "43/43 [==============================] - 6s 134ms/step - loss: 0.1026 - accuracy: 0.9861\n",
      "Epoch 65/100\n",
      "43/43 [==============================] - 6s 132ms/step - loss: 0.1000 - accuracy: 0.9861\n",
      "Epoch 66/100\n",
      "43/43 [==============================] - 5s 124ms/step - loss: 0.0961 - accuracy: 0.9869\n",
      "Epoch 67/100\n",
      "43/43 [==============================] - 5s 126ms/step - loss: 0.0945 - accuracy: 0.9854\n",
      "Epoch 68/100\n",
      "43/43 [==============================] - 6s 134ms/step - loss: 0.0905 - accuracy: 0.9869\n",
      "Epoch 69/100\n",
      "43/43 [==============================] - 6s 138ms/step - loss: 0.0880 - accuracy: 0.9861\n",
      "Epoch 70/100\n",
      "43/43 [==============================] - 6s 128ms/step - loss: 0.0848 - accuracy: 0.9869\n",
      "Epoch 71/100\n",
      "43/43 [==============================] - 5s 125ms/step - loss: 0.0827 - accuracy: 0.9854\n",
      "Epoch 72/100\n",
      "43/43 [==============================] - 6s 137ms/step - loss: 0.0813 - accuracy: 0.9854\n",
      "Epoch 73/100\n",
      "43/43 [==============================] - 6s 136ms/step - loss: 0.0786 - accuracy: 0.9861\n",
      "Epoch 74/100\n",
      "43/43 [==============================] - 5s 125ms/step - loss: 0.0755 - accuracy: 0.9854\n",
      "Epoch 75/100\n",
      "43/43 [==============================] - 5s 124ms/step - loss: 0.0741 - accuracy: 0.9861\n",
      "Epoch 76/100\n",
      "43/43 [==============================] - 5s 119ms/step - loss: 0.0732 - accuracy: 0.9861\n",
      "Epoch 77/100\n",
      "43/43 [==============================] - 6s 132ms/step - loss: 0.0709 - accuracy: 0.9861\n",
      "Epoch 78/100\n",
      "43/43 [==============================] - 5s 126ms/step - loss: 0.0692 - accuracy: 0.9847\n",
      "Epoch 79/100\n",
      "43/43 [==============================] - 6s 131ms/step - loss: 0.0674 - accuracy: 0.9861\n",
      "Epoch 80/100\n",
      "43/43 [==============================] - 6s 138ms/step - loss: 0.0666 - accuracy: 0.9861\n",
      "Epoch 81/100\n"
     ]
    },
    {
     "name": "stdout",
     "output_type": "stream",
     "text": [
      "43/43 [==============================] - 6s 143ms/step - loss: 0.0646 - accuracy: 0.9854\n",
      "Epoch 82/100\n",
      "43/43 [==============================] - 6s 142ms/step - loss: 0.0632 - accuracy: 0.9861\n",
      "Epoch 83/100\n",
      "43/43 [==============================] - 6s 142ms/step - loss: 0.0629 - accuracy: 0.9854\n",
      "Epoch 84/100\n",
      "43/43 [==============================] - 6s 144ms/step - loss: 0.0599 - accuracy: 0.9854\n",
      "Epoch 85/100\n",
      "43/43 [==============================] - 6s 141ms/step - loss: 0.0598 - accuracy: 0.9869\n",
      "Epoch 86/100\n",
      "43/43 [==============================] - 6s 142ms/step - loss: 0.0585 - accuracy: 0.9854\n",
      "Epoch 87/100\n",
      "43/43 [==============================] - 6s 136ms/step - loss: 0.0580 - accuracy: 0.9861\n",
      "Epoch 88/100\n",
      "43/43 [==============================] - 6s 139ms/step - loss: 0.0564 - accuracy: 0.9861\n",
      "Epoch 89/100\n",
      "43/43 [==============================] - 6s 133ms/step - loss: 0.0555 - accuracy: 0.9869\n",
      "Epoch 90/100\n",
      "43/43 [==============================] - 6s 140ms/step - loss: 0.0544 - accuracy: 0.9861\n",
      "Epoch 91/100\n",
      "43/43 [==============================] - 6s 139ms/step - loss: 0.0542 - accuracy: 0.9861\n",
      "Epoch 92/100\n",
      "43/43 [==============================] - 6s 141ms/step - loss: 0.0530 - accuracy: 0.9854\n",
      "Epoch 93/100\n",
      "43/43 [==============================] - 6s 143ms/step - loss: 0.0521 - accuracy: 0.9861\n",
      "Epoch 94/100\n",
      "43/43 [==============================] - 6s 142ms/step - loss: 0.0513 - accuracy: 0.9847\n",
      "Epoch 95/100\n",
      "43/43 [==============================] - 6s 141ms/step - loss: 0.0503 - accuracy: 0.9869\n",
      "Epoch 96/100\n",
      "43/43 [==============================] - 6s 138ms/step - loss: 0.0502 - accuracy: 0.9861\n",
      "Epoch 97/100\n",
      "43/43 [==============================] - 6s 137ms/step - loss: 0.0492 - accuracy: 0.9854\n",
      "Epoch 98/100\n",
      "43/43 [==============================] - 6s 129ms/step - loss: 0.0490 - accuracy: 0.9861\n",
      "Epoch 99/100\n",
      "43/43 [==============================] - 5s 118ms/step - loss: 0.0474 - accuracy: 0.9861\n",
      "Epoch 100/100\n",
      "43/43 [==============================] - 6s 140ms/step - loss: 0.0470 - accuracy: 0.9876\n"
     ]
    },
    {
     "data": {
      "text/plain": [
       "<keras.callbacks.History at 0x1629d6c9660>"
      ]
     },
     "execution_count": 62,
     "metadata": {},
     "output_type": "execute_result"
    }
   ],
   "source": [
    "model.compile(loss='categorical_crossentropy', optimizer='adam', metrics=['accuracy'])\n",
    "model.fit(X, Y, epochs=100, verbose=1)"
   ]
  },
  {
   "cell_type": "code",
   "execution_count": null,
   "id": "2a859d9d",
   "metadata": {},
   "outputs": [],
   "source": []
  },
  {
   "cell_type": "code",
   "execution_count": 63,
   "id": "4e8d0a83",
   "metadata": {},
   "outputs": [
    {
     "name": "stdout",
     "output_type": "stream",
     "text": [
      "[72, 14]\n",
      "1/1 [==============================] - 1s 808ms/step\n",
      "[72, 14, 5]\n",
      "1/1 [==============================] - 0s 24ms/step\n",
      "[72, 14, 5, 28]\n",
      "1/1 [==============================] - 0s 41ms/step\n",
      "[72, 14, 5, 28, 29]\n",
      "1/1 [==============================] - 0s 45ms/step\n",
      "[72, 14, 5, 28, 29, 30]\n",
      "1/1 [==============================] - 0s 45ms/step\n",
      "[72, 14, 5, 28, 29, 30, 71]\n",
      "1/1 [==============================] - 0s 41ms/step\n",
      "[72, 14, 5, 28, 29, 30, 71, 11]\n",
      "1/1 [==============================] - 0s 35ms/step\n",
      "[72, 14, 5, 28, 29, 30, 71, 11, 536]\n",
      "1/1 [==============================] - 0s 41ms/step\n",
      "[72, 14, 5, 28, 29, 30, 71, 11, 536, 3]\n",
      "1/1 [==============================] - 0s 35ms/step\n",
      "[72, 14, 5, 28, 29, 30, 71, 11, 536, 3, 23]\n",
      "1/1 [==============================] - 0s 44ms/step\n",
      "[72, 14, 5, 28, 29, 30, 71, 11, 536, 3, 23, 537]\n",
      "1/1 [==============================] - 0s 40ms/step\n",
      "[72, 14, 5, 28, 29, 30, 71, 11, 536, 3, 23, 537, 538]\n",
      "1/1 [==============================] - 0s 39ms/step\n",
      "[72, 14, 5, 28, 29, 30, 71, 11, 536, 3, 23, 537, 538, 21]\n",
      "1/1 [==============================] - 0s 32ms/step\n",
      "[72, 14, 5, 28, 29, 30, 71, 11, 536, 3, 23, 537, 538, 21, 1]\n",
      "1/1 [==============================] - 0s 33ms/step\n",
      "[72, 14, 5, 28, 29, 30, 71, 11, 536, 3, 23, 537, 538, 21, 1, 539]\n",
      "1/1 [==============================] - 0s 32ms/step\n",
      "Joe biden and indian prime minister narendra modi participate in an arrival ceremony on the south lawn\n"
     ]
    }
   ],
   "source": [
    "input_text = \"Joe biden\"\n",
    "predict_next_words= 15\n",
    "\n",
    "for _ in range(predict_next_words):\n",
    "    token_list = mytokenizer.texts_to_sequences([input_text])[0]\n",
    "    print(token_list)\n",
    "    token_list = pad_sequences([token_list], maxlen=max_sequence_len-1, padding='pre')\n",
    "    predicted = np.argmax(model.predict(token_list), axis=-1)\n",
    "    output_word = \"\"\n",
    "    for word, index in mytokenizer.word_index.items():\n",
    "        if index == predicted:\n",
    "            output_word = word\n",
    "            break\n",
    "    input_text += \" \" + output_word\n",
    "\n",
    "print(input_text)"
   ]
  },
  {
   "cell_type": "code",
   "execution_count": null,
   "id": "e14a78f2",
   "metadata": {},
   "outputs": [],
   "source": []
  },
  {
   "cell_type": "code",
   "execution_count": 64,
   "id": "994033f8",
   "metadata": {},
   "outputs": [],
   "source": [
    "model.save('my_model.h5')"
   ]
  },
  {
   "cell_type": "code",
   "execution_count": 69,
   "id": "09aa4446",
   "metadata": {},
   "outputs": [],
   "source": [
    "import pickle\n",
    "\n",
    "with open('tokenizer.pickle', 'wb') as handle:\n",
    "    pickle.dump(mytokenizer, handle, protocol=pickle.HIGHEST_PROTOCOL)"
   ]
  },
  {
   "cell_type": "code",
   "execution_count": 67,
   "id": "cf1bc0ee",
   "metadata": {},
   "outputs": [],
   "source": [
    "# max_sequence_len -> 83"
   ]
  },
  {
   "cell_type": "code",
   "execution_count": null,
   "id": "270bf70f",
   "metadata": {},
   "outputs": [],
   "source": []
  }
 ],
 "metadata": {
  "kernelspec": {
   "display_name": "Python 3 (ipykernel)",
   "language": "python",
   "name": "python3"
  },
  "language_info": {
   "codemirror_mode": {
    "name": "ipython",
    "version": 3
   },
   "file_extension": ".py",
   "mimetype": "text/x-python",
   "name": "python",
   "nbconvert_exporter": "python",
   "pygments_lexer": "ipython3",
   "version": "3.10.4"
  }
 },
 "nbformat": 4,
 "nbformat_minor": 5
}
